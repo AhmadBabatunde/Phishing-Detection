{
 "cells": [
  {
   "cell_type": "code",
   "execution_count": 1,
   "id": "443c0fb2",
   "metadata": {
    "_cell_guid": "b1076dfc-b9ad-4769-8c92-a6c4dae69d19",
    "_uuid": "8f2839f25d086af736a60e9eeb907d3b93b6e0e5",
    "execution": {
     "iopub.execute_input": "2025-03-11T11:22:10.157769Z",
     "iopub.status.busy": "2025-03-11T11:22:10.157412Z",
     "iopub.status.idle": "2025-03-11T11:22:10.781251Z",
     "shell.execute_reply": "2025-03-11T11:22:10.780279Z"
    },
    "papermill": {
     "duration": 0.631411,
     "end_time": "2025-03-11T11:22:10.782713",
     "exception": false,
     "start_time": "2025-03-11T11:22:10.151302",
     "status": "completed"
    },
    "tags": []
   },
   "outputs": [
    {
     "name": "stdout",
     "output_type": "stream",
     "text": [
      "/kaggle/input/phiusiil-phishing-url/PhiUSIIL_Phishing_URL_Dataset.csv\n",
      "/kaggle/input/finetunedbertmodel/pytorch/default/1/config.json\n",
      "/kaggle/input/finetunedbertmodel/pytorch/default/1/training_args.bin\n",
      "/kaggle/input/finetunedbertmodel/pytorch/default/1/tokenizer.json\n",
      "/kaggle/input/finetunedbertmodel/pytorch/default/1/tokenizer_config.json\n",
      "/kaggle/input/finetunedbertmodel/pytorch/default/1/model.safetensors\n",
      "/kaggle/input/finetunedbertmodel/pytorch/default/1/special_tokens_map.json\n",
      "/kaggle/input/finetunedbertmodel/pytorch/default/1/vocab.txt\n"
     ]
    }
   ],
   "source": [
    "# This Python 3 environment comes with many helpful analytics libraries installed\n",
    "# It is defined by the kaggle/python Docker image: https://github.com/kaggle/docker-python\n",
    "# For example, here's several helpful packages to load\n",
    "\n",
    "import numpy as np # linear algebra\n",
    "import pandas as pd # data processing, CSV file I/O (e.g. pd.read_csv)\n",
    "\n",
    "# Input data files are available in the read-only \"../input/\" directory\n",
    "# For example, running this (by clicking run or pressing Shift+Enter) will list all files under the input directory\n",
    "\n",
    "import os\n",
    "for dirname, _, filenames in os.walk('/kaggle/input'):\n",
    "    for filename in filenames:\n",
    "        print(os.path.join(dirname, filename))\n",
    "\n",
    "# You can write up to 20GB to the current directory (/kaggle/working/) that gets preserved as output when you create a version using \"Save & Run All\" \n",
    "# You can also write temporary files to /kaggle/temp/, but they won't be saved outside of the current session"
   ]
  },
  {
   "cell_type": "code",
   "execution_count": 2,
   "id": "a0b0ab25",
   "metadata": {
    "execution": {
     "iopub.execute_input": "2025-03-11T11:22:10.793370Z",
     "iopub.status.busy": "2025-03-11T11:22:10.793040Z",
     "iopub.status.idle": "2025-03-11T11:22:13.885526Z",
     "shell.execute_reply": "2025-03-11T11:22:13.884564Z"
    },
    "papermill": {
     "duration": 3.099082,
     "end_time": "2025-03-11T11:22:13.886956",
     "exception": false,
     "start_time": "2025-03-11T11:22:10.787874",
     "status": "completed"
    },
    "tags": []
   },
   "outputs": [
    {
     "name": "stdout",
     "output_type": "stream",
     "text": [
      "CUDA Version: 12.1\n"
     ]
    }
   ],
   "source": [
    "import torch\n",
    "\n",
    "# Check if CUDA is available\n",
    "if torch.cuda.is_available():\n",
    "    cuda_version = torch.version.cuda\n",
    "    print(f\"CUDA Version: {cuda_version}\")\n",
    "else:\n",
    "    print(\"CUDA is not available on this system.\")"
   ]
  },
  {
   "cell_type": "code",
   "execution_count": 3,
   "id": "f434e80d",
   "metadata": {
    "execution": {
     "iopub.execute_input": "2025-03-11T11:22:13.899174Z",
     "iopub.status.busy": "2025-03-11T11:22:13.898656Z",
     "iopub.status.idle": "2025-03-11T11:22:15.805648Z",
     "shell.execute_reply": "2025-03-11T11:22:15.804736Z"
    },
    "papermill": {
     "duration": 1.9149,
     "end_time": "2025-03-11T11:22:15.807316",
     "exception": false,
     "start_time": "2025-03-11T11:22:13.892416",
     "status": "completed"
    },
    "tags": []
   },
   "outputs": [],
   "source": [
    "import numpy as np\n",
    "import torch.nn as nn\n",
    "import torch.optim as optim\n",
    "import pandas as pd\n",
    "from sklearn.model_selection import train_test_split\n",
    "from sklearn.feature_selection import RFE\n",
    "import torch\n",
    "import transformers as tf\n",
    "import warnings\n",
    "import os\n",
    "import multiprocessing\n",
    "\n",
    "\n",
    "warnings.filterwarnings('ignore')"
   ]
  },
  {
   "cell_type": "code",
   "execution_count": 4,
   "id": "7452f730",
   "metadata": {
    "execution": {
     "iopub.execute_input": "2025-03-11T11:22:15.821645Z",
     "iopub.status.busy": "2025-03-11T11:22:15.821272Z",
     "iopub.status.idle": "2025-03-11T11:22:17.847530Z",
     "shell.execute_reply": "2025-03-11T11:22:17.846801Z"
    },
    "papermill": {
     "duration": 2.033344,
     "end_time": "2025-03-11T11:22:17.849037",
     "exception": false,
     "start_time": "2025-03-11T11:22:15.815693",
     "status": "completed"
    },
    "tags": []
   },
   "outputs": [],
   "source": [
    "df_raw = pd.read_csv('/kaggle/input/phiusiil-phishing-url/PhiUSIIL_Phishing_URL_Dataset.csv')"
   ]
  },
  {
   "cell_type": "code",
   "execution_count": 5,
   "id": "d1455bb6",
   "metadata": {
    "execution": {
     "iopub.execute_input": "2025-03-11T11:22:17.859655Z",
     "iopub.status.busy": "2025-03-11T11:22:17.859433Z",
     "iopub.status.idle": "2025-03-11T11:22:17.886159Z",
     "shell.execute_reply": "2025-03-11T11:22:17.885531Z"
    },
    "papermill": {
     "duration": 0.033257,
     "end_time": "2025-03-11T11:22:17.887466",
     "exception": false,
     "start_time": "2025-03-11T11:22:17.854209",
     "status": "completed"
    },
    "tags": []
   },
   "outputs": [
    {
     "data": {
      "text/html": [
       "<div>\n",
       "<style scoped>\n",
       "    .dataframe tbody tr th:only-of-type {\n",
       "        vertical-align: middle;\n",
       "    }\n",
       "\n",
       "    .dataframe tbody tr th {\n",
       "        vertical-align: top;\n",
       "    }\n",
       "\n",
       "    .dataframe thead th {\n",
       "        text-align: right;\n",
       "    }\n",
       "</style>\n",
       "<table border=\"1\" class=\"dataframe\">\n",
       "  <thead>\n",
       "    <tr style=\"text-align: right;\">\n",
       "      <th></th>\n",
       "      <th>FILENAME</th>\n",
       "      <th>URL</th>\n",
       "      <th>URLLength</th>\n",
       "      <th>Domain</th>\n",
       "      <th>DomainLength</th>\n",
       "      <th>IsDomainIP</th>\n",
       "      <th>TLD</th>\n",
       "      <th>URLSimilarityIndex</th>\n",
       "      <th>CharContinuationRate</th>\n",
       "      <th>TLDLegitimateProb</th>\n",
       "      <th>...</th>\n",
       "      <th>Pay</th>\n",
       "      <th>Crypto</th>\n",
       "      <th>HasCopyrightInfo</th>\n",
       "      <th>NoOfImage</th>\n",
       "      <th>NoOfCSS</th>\n",
       "      <th>NoOfJS</th>\n",
       "      <th>NoOfSelfRef</th>\n",
       "      <th>NoOfEmptyRef</th>\n",
       "      <th>NoOfExternalRef</th>\n",
       "      <th>label</th>\n",
       "    </tr>\n",
       "  </thead>\n",
       "  <tbody>\n",
       "    <tr>\n",
       "      <th>0</th>\n",
       "      <td>521848.txt</td>\n",
       "      <td>https://www.southbankmosaics.com</td>\n",
       "      <td>31</td>\n",
       "      <td>www.southbankmosaics.com</td>\n",
       "      <td>24</td>\n",
       "      <td>0</td>\n",
       "      <td>com</td>\n",
       "      <td>100.0</td>\n",
       "      <td>1.000000</td>\n",
       "      <td>0.522907</td>\n",
       "      <td>...</td>\n",
       "      <td>0</td>\n",
       "      <td>0</td>\n",
       "      <td>1</td>\n",
       "      <td>34</td>\n",
       "      <td>20</td>\n",
       "      <td>28</td>\n",
       "      <td>119</td>\n",
       "      <td>0</td>\n",
       "      <td>124</td>\n",
       "      <td>1</td>\n",
       "    </tr>\n",
       "    <tr>\n",
       "      <th>1</th>\n",
       "      <td>31372.txt</td>\n",
       "      <td>https://www.uni-mainz.de</td>\n",
       "      <td>23</td>\n",
       "      <td>www.uni-mainz.de</td>\n",
       "      <td>16</td>\n",
       "      <td>0</td>\n",
       "      <td>de</td>\n",
       "      <td>100.0</td>\n",
       "      <td>0.666667</td>\n",
       "      <td>0.032650</td>\n",
       "      <td>...</td>\n",
       "      <td>0</td>\n",
       "      <td>0</td>\n",
       "      <td>1</td>\n",
       "      <td>50</td>\n",
       "      <td>9</td>\n",
       "      <td>8</td>\n",
       "      <td>39</td>\n",
       "      <td>0</td>\n",
       "      <td>217</td>\n",
       "      <td>1</td>\n",
       "    </tr>\n",
       "    <tr>\n",
       "      <th>2</th>\n",
       "      <td>597387.txt</td>\n",
       "      <td>https://www.voicefmradio.co.uk</td>\n",
       "      <td>29</td>\n",
       "      <td>www.voicefmradio.co.uk</td>\n",
       "      <td>22</td>\n",
       "      <td>0</td>\n",
       "      <td>uk</td>\n",
       "      <td>100.0</td>\n",
       "      <td>0.866667</td>\n",
       "      <td>0.028555</td>\n",
       "      <td>...</td>\n",
       "      <td>0</td>\n",
       "      <td>0</td>\n",
       "      <td>1</td>\n",
       "      <td>10</td>\n",
       "      <td>2</td>\n",
       "      <td>7</td>\n",
       "      <td>42</td>\n",
       "      <td>2</td>\n",
       "      <td>5</td>\n",
       "      <td>1</td>\n",
       "    </tr>\n",
       "    <tr>\n",
       "      <th>3</th>\n",
       "      <td>554095.txt</td>\n",
       "      <td>https://www.sfnmjournal.com</td>\n",
       "      <td>26</td>\n",
       "      <td>www.sfnmjournal.com</td>\n",
       "      <td>19</td>\n",
       "      <td>0</td>\n",
       "      <td>com</td>\n",
       "      <td>100.0</td>\n",
       "      <td>1.000000</td>\n",
       "      <td>0.522907</td>\n",
       "      <td>...</td>\n",
       "      <td>1</td>\n",
       "      <td>1</td>\n",
       "      <td>1</td>\n",
       "      <td>3</td>\n",
       "      <td>27</td>\n",
       "      <td>15</td>\n",
       "      <td>22</td>\n",
       "      <td>1</td>\n",
       "      <td>31</td>\n",
       "      <td>1</td>\n",
       "    </tr>\n",
       "    <tr>\n",
       "      <th>4</th>\n",
       "      <td>151578.txt</td>\n",
       "      <td>https://www.rewildingargentina.org</td>\n",
       "      <td>33</td>\n",
       "      <td>www.rewildingargentina.org</td>\n",
       "      <td>26</td>\n",
       "      <td>0</td>\n",
       "      <td>org</td>\n",
       "      <td>100.0</td>\n",
       "      <td>1.000000</td>\n",
       "      <td>0.079963</td>\n",
       "      <td>...</td>\n",
       "      <td>1</td>\n",
       "      <td>0</td>\n",
       "      <td>1</td>\n",
       "      <td>244</td>\n",
       "      <td>15</td>\n",
       "      <td>34</td>\n",
       "      <td>72</td>\n",
       "      <td>1</td>\n",
       "      <td>85</td>\n",
       "      <td>1</td>\n",
       "    </tr>\n",
       "  </tbody>\n",
       "</table>\n",
       "<p>5 rows × 56 columns</p>\n",
       "</div>"
      ],
      "text/plain": [
       "     FILENAME                                 URL  URLLength  \\\n",
       "0  521848.txt    https://www.southbankmosaics.com         31   \n",
       "1   31372.txt            https://www.uni-mainz.de         23   \n",
       "2  597387.txt      https://www.voicefmradio.co.uk         29   \n",
       "3  554095.txt         https://www.sfnmjournal.com         26   \n",
       "4  151578.txt  https://www.rewildingargentina.org         33   \n",
       "\n",
       "                       Domain  DomainLength  IsDomainIP  TLD  \\\n",
       "0    www.southbankmosaics.com            24           0  com   \n",
       "1            www.uni-mainz.de            16           0   de   \n",
       "2      www.voicefmradio.co.uk            22           0   uk   \n",
       "3         www.sfnmjournal.com            19           0  com   \n",
       "4  www.rewildingargentina.org            26           0  org   \n",
       "\n",
       "   URLSimilarityIndex  CharContinuationRate  TLDLegitimateProb  ...  Pay  \\\n",
       "0               100.0              1.000000           0.522907  ...    0   \n",
       "1               100.0              0.666667           0.032650  ...    0   \n",
       "2               100.0              0.866667           0.028555  ...    0   \n",
       "3               100.0              1.000000           0.522907  ...    1   \n",
       "4               100.0              1.000000           0.079963  ...    1   \n",
       "\n",
       "   Crypto  HasCopyrightInfo  NoOfImage  NoOfCSS  NoOfJS  NoOfSelfRef  \\\n",
       "0       0                 1         34       20      28          119   \n",
       "1       0                 1         50        9       8           39   \n",
       "2       0                 1         10        2       7           42   \n",
       "3       1                 1          3       27      15           22   \n",
       "4       0                 1        244       15      34           72   \n",
       "\n",
       "   NoOfEmptyRef  NoOfExternalRef  label  \n",
       "0             0              124      1  \n",
       "1             0              217      1  \n",
       "2             2                5      1  \n",
       "3             1               31      1  \n",
       "4             1               85      1  \n",
       "\n",
       "[5 rows x 56 columns]"
      ]
     },
     "execution_count": 5,
     "metadata": {},
     "output_type": "execute_result"
    }
   ],
   "source": [
    "df_raw.head()"
   ]
  },
  {
   "cell_type": "code",
   "execution_count": 6,
   "id": "7398cbda",
   "metadata": {
    "execution": {
     "iopub.execute_input": "2025-03-11T11:22:17.897831Z",
     "iopub.status.busy": "2025-03-11T11:22:17.897607Z",
     "iopub.status.idle": "2025-03-11T11:22:17.917587Z",
     "shell.execute_reply": "2025-03-11T11:22:17.916778Z"
    },
    "papermill": {
     "duration": 0.026431,
     "end_time": "2025-03-11T11:22:17.918832",
     "exception": false,
     "start_time": "2025-03-11T11:22:17.892401",
     "status": "completed"
    },
    "tags": []
   },
   "outputs": [],
   "source": [
    "columns = [ 'URL'  ,'Domain', 'TLD',  'URLSimilarityIndex' ,'NoOfOtherSpecialCharsInURL' , \n",
    " 'SpacialCharRatioInURL','IsHTTPS', 'LineOfCode' ,'Title' , 'DomainTitleMatchScore', 'URLTitleMatchScore' ,'IsResponsive'               \n",
    ",'HasDescription' , 'HasSocialNet' , 'HasSubmitButton','HasCopyrightInfo' , 'NoOfImage' ,  'NoOfJS', 'NoOfSelfRef'                \n",
    "   ,'label']\n",
    "df = df_raw[columns]"
   ]
  },
  {
   "cell_type": "code",
   "execution_count": 7,
   "id": "c5358bf8",
   "metadata": {
    "execution": {
     "iopub.execute_input": "2025-03-11T11:22:17.929461Z",
     "iopub.status.busy": "2025-03-11T11:22:17.929226Z",
     "iopub.status.idle": "2025-03-11T11:22:17.942709Z",
     "shell.execute_reply": "2025-03-11T11:22:17.941923Z"
    },
    "papermill": {
     "duration": 0.020165,
     "end_time": "2025-03-11T11:22:17.943951",
     "exception": false,
     "start_time": "2025-03-11T11:22:17.923786",
     "status": "completed"
    },
    "tags": []
   },
   "outputs": [
    {
     "data": {
      "text/html": [
       "<div>\n",
       "<style scoped>\n",
       "    .dataframe tbody tr th:only-of-type {\n",
       "        vertical-align: middle;\n",
       "    }\n",
       "\n",
       "    .dataframe tbody tr th {\n",
       "        vertical-align: top;\n",
       "    }\n",
       "\n",
       "    .dataframe thead th {\n",
       "        text-align: right;\n",
       "    }\n",
       "</style>\n",
       "<table border=\"1\" class=\"dataframe\">\n",
       "  <thead>\n",
       "    <tr style=\"text-align: right;\">\n",
       "      <th></th>\n",
       "      <th>URL</th>\n",
       "      <th>Domain</th>\n",
       "      <th>TLD</th>\n",
       "      <th>URLSimilarityIndex</th>\n",
       "      <th>NoOfOtherSpecialCharsInURL</th>\n",
       "      <th>SpacialCharRatioInURL</th>\n",
       "      <th>IsHTTPS</th>\n",
       "      <th>LineOfCode</th>\n",
       "      <th>Title</th>\n",
       "      <th>DomainTitleMatchScore</th>\n",
       "      <th>URLTitleMatchScore</th>\n",
       "      <th>IsResponsive</th>\n",
       "      <th>HasDescription</th>\n",
       "      <th>HasSocialNet</th>\n",
       "      <th>HasSubmitButton</th>\n",
       "      <th>HasCopyrightInfo</th>\n",
       "      <th>NoOfImage</th>\n",
       "      <th>NoOfJS</th>\n",
       "      <th>NoOfSelfRef</th>\n",
       "      <th>label</th>\n",
       "    </tr>\n",
       "  </thead>\n",
       "  <tbody>\n",
       "    <tr>\n",
       "      <th>117897</th>\n",
       "      <td>https://www.ife.org.uk</td>\n",
       "      <td>www.ife.org.uk</td>\n",
       "      <td>uk</td>\n",
       "      <td>100.000000</td>\n",
       "      <td>2</td>\n",
       "      <td>0.095</td>\n",
       "      <td>1</td>\n",
       "      <td>2180</td>\n",
       "      <td>ifeorg</td>\n",
       "      <td>0.0</td>\n",
       "      <td>0.0</td>\n",
       "      <td>1</td>\n",
       "      <td>1</td>\n",
       "      <td>1</td>\n",
       "      <td>0</td>\n",
       "      <td>0</td>\n",
       "      <td>16</td>\n",
       "      <td>3</td>\n",
       "      <td>22</td>\n",
       "      <td>1</td>\n",
       "    </tr>\n",
       "    <tr>\n",
       "      <th>117898</th>\n",
       "      <td>https://www.rogerfoxwell.co.uk</td>\n",
       "      <td>www.rogerfoxwell.co.uk</td>\n",
       "      <td>uk</td>\n",
       "      <td>100.000000</td>\n",
       "      <td>2</td>\n",
       "      <td>0.069</td>\n",
       "      <td>1</td>\n",
       "      <td>2912</td>\n",
       "      <td>rogerfoxwellco</td>\n",
       "      <td>0.0</td>\n",
       "      <td>0.0</td>\n",
       "      <td>1</td>\n",
       "      <td>1</td>\n",
       "      <td>1</td>\n",
       "      <td>1</td>\n",
       "      <td>1</td>\n",
       "      <td>12</td>\n",
       "      <td>41</td>\n",
       "      <td>116</td>\n",
       "      <td>1</td>\n",
       "    </tr>\n",
       "    <tr>\n",
       "      <th>117899</th>\n",
       "      <td>https://www.amblesideonline.org</td>\n",
       "      <td>www.amblesideonline.org</td>\n",
       "      <td>org</td>\n",
       "      <td>100.000000</td>\n",
       "      <td>1</td>\n",
       "      <td>0.033</td>\n",
       "      <td>1</td>\n",
       "      <td>323</td>\n",
       "      <td>amblesideonline</td>\n",
       "      <td>100.0</td>\n",
       "      <td>100.0</td>\n",
       "      <td>1</td>\n",
       "      <td>1</td>\n",
       "      <td>1</td>\n",
       "      <td>1</td>\n",
       "      <td>1</td>\n",
       "      <td>15</td>\n",
       "      <td>0</td>\n",
       "      <td>1</td>\n",
       "      <td>1</td>\n",
       "    </tr>\n",
       "    <tr>\n",
       "      <th>117900</th>\n",
       "      <td>http://serv-term-103049.square.site/</td>\n",
       "      <td>serv-term-103049.square.site</td>\n",
       "      <td>site</td>\n",
       "      <td>66.845531</td>\n",
       "      <td>5</td>\n",
       "      <td>0.139</td>\n",
       "      <td>0</td>\n",
       "      <td>13</td>\n",
       "      <td>serv-term-103049square</td>\n",
       "      <td>0.0</td>\n",
       "      <td>0.0</td>\n",
       "      <td>0</td>\n",
       "      <td>0</td>\n",
       "      <td>0</td>\n",
       "      <td>0</td>\n",
       "      <td>0</td>\n",
       "      <td>0</td>\n",
       "      <td>0</td>\n",
       "      <td>1</td>\n",
       "      <td>0</td>\n",
       "    </tr>\n",
       "    <tr>\n",
       "      <th>117901</th>\n",
       "      <td>https://3vlocksmith.com/blesmps/login.html</td>\n",
       "      <td>3vlocksmith.com</td>\n",
       "      <td>com</td>\n",
       "      <td>30.350964</td>\n",
       "      <td>4</td>\n",
       "      <td>0.098</td>\n",
       "      <td>1</td>\n",
       "      <td>170</td>\n",
       "      <td>3vlocksmithblesmpsloginhtm</td>\n",
       "      <td>0.0</td>\n",
       "      <td>0.0</td>\n",
       "      <td>0</td>\n",
       "      <td>0</td>\n",
       "      <td>0</td>\n",
       "      <td>0</td>\n",
       "      <td>0</td>\n",
       "      <td>3</td>\n",
       "      <td>2</td>\n",
       "      <td>0</td>\n",
       "      <td>0</td>\n",
       "    </tr>\n",
       "  </tbody>\n",
       "</table>\n",
       "</div>"
      ],
      "text/plain": [
       "                                               URL  \\\n",
       "117897                      https://www.ife.org.uk   \n",
       "117898              https://www.rogerfoxwell.co.uk   \n",
       "117899             https://www.amblesideonline.org   \n",
       "117900        http://serv-term-103049.square.site/   \n",
       "117901  https://3vlocksmith.com/blesmps/login.html   \n",
       "\n",
       "                              Domain   TLD  URLSimilarityIndex  \\\n",
       "117897                www.ife.org.uk    uk          100.000000   \n",
       "117898        www.rogerfoxwell.co.uk    uk          100.000000   \n",
       "117899       www.amblesideonline.org   org          100.000000   \n",
       "117900  serv-term-103049.square.site  site           66.845531   \n",
       "117901               3vlocksmith.com   com           30.350964   \n",
       "\n",
       "        NoOfOtherSpecialCharsInURL  SpacialCharRatioInURL  IsHTTPS  \\\n",
       "117897                           2                  0.095        1   \n",
       "117898                           2                  0.069        1   \n",
       "117899                           1                  0.033        1   \n",
       "117900                           5                  0.139        0   \n",
       "117901                           4                  0.098        1   \n",
       "\n",
       "        LineOfCode                       Title  DomainTitleMatchScore  \\\n",
       "117897        2180                      ifeorg                    0.0   \n",
       "117898        2912              rogerfoxwellco                    0.0   \n",
       "117899         323             amblesideonline                  100.0   \n",
       "117900          13      serv-term-103049square                    0.0   \n",
       "117901         170  3vlocksmithblesmpsloginhtm                    0.0   \n",
       "\n",
       "        URLTitleMatchScore  IsResponsive  HasDescription  HasSocialNet  \\\n",
       "117897                 0.0             1               1             1   \n",
       "117898                 0.0             1               1             1   \n",
       "117899               100.0             1               1             1   \n",
       "117900                 0.0             0               0             0   \n",
       "117901                 0.0             0               0             0   \n",
       "\n",
       "        HasSubmitButton  HasCopyrightInfo  NoOfImage  NoOfJS  NoOfSelfRef  \\\n",
       "117897                0                 0         16       3           22   \n",
       "117898                1                 1         12      41          116   \n",
       "117899                1                 1         15       0            1   \n",
       "117900                0                 0          0       0            1   \n",
       "117901                0                 0          3       2            0   \n",
       "\n",
       "        label  \n",
       "117897      1  \n",
       "117898      1  \n",
       "117899      1  \n",
       "117900      0  \n",
       "117901      0  "
      ]
     },
     "execution_count": 7,
     "metadata": {},
     "output_type": "execute_result"
    }
   ],
   "source": [
    "cuttoff = int(len(df)*0.5)\n",
    "df1 = df.iloc[:cuttoff]\n",
    "df2 = df.iloc[cuttoff:]\n",
    "df2.head()"
   ]
  },
  {
   "cell_type": "code",
   "execution_count": 8,
   "id": "79144272",
   "metadata": {
    "execution": {
     "iopub.execute_input": "2025-03-11T11:22:17.955457Z",
     "iopub.status.busy": "2025-03-11T11:22:17.955229Z",
     "iopub.status.idle": "2025-03-11T11:22:17.971134Z",
     "shell.execute_reply": "2025-03-11T11:22:17.970365Z"
    },
    "papermill": {
     "duration": 0.023214,
     "end_time": "2025-03-11T11:22:17.972435",
     "exception": false,
     "start_time": "2025-03-11T11:22:17.949221",
     "status": "completed"
    },
    "tags": []
   },
   "outputs": [
    {
     "name": "stdout",
     "output_type": "stream",
     "text": [
      "(5000, 4)\n"
     ]
    },
    {
     "data": {
      "text/html": [
       "<div>\n",
       "<style scoped>\n",
       "    .dataframe tbody tr th:only-of-type {\n",
       "        vertical-align: middle;\n",
       "    }\n",
       "\n",
       "    .dataframe tbody tr th {\n",
       "        vertical-align: top;\n",
       "    }\n",
       "\n",
       "    .dataframe thead th {\n",
       "        text-align: right;\n",
       "    }\n",
       "</style>\n",
       "<table border=\"1\" class=\"dataframe\">\n",
       "  <thead>\n",
       "    <tr style=\"text-align: right;\">\n",
       "      <th></th>\n",
       "      <th>URL</th>\n",
       "      <th>Domain</th>\n",
       "      <th>TLD</th>\n",
       "      <th>Title</th>\n",
       "      <th>label</th>\n",
       "      <th>combined</th>\n",
       "    </tr>\n",
       "  </thead>\n",
       "  <tbody>\n",
       "    <tr>\n",
       "      <th>0</th>\n",
       "      <td>https://www.ife.org.uk</td>\n",
       "      <td>www.ife.org.uk</td>\n",
       "      <td>uk</td>\n",
       "      <td>ifeorg</td>\n",
       "      <td>NaN</td>\n",
       "      <td>https://www.ife.org.uk www.ife.org.uk uk ifeorg</td>\n",
       "    </tr>\n",
       "    <tr>\n",
       "      <th>1</th>\n",
       "      <td>https://www.rogerfoxwell.co.uk</td>\n",
       "      <td>www.rogerfoxwell.co.uk</td>\n",
       "      <td>uk</td>\n",
       "      <td>rogerfoxwellco</td>\n",
       "      <td>NaN</td>\n",
       "      <td>https://www.rogerfoxwell.co.uk www.rogerfoxwel...</td>\n",
       "    </tr>\n",
       "    <tr>\n",
       "      <th>2</th>\n",
       "      <td>https://www.amblesideonline.org</td>\n",
       "      <td>www.amblesideonline.org</td>\n",
       "      <td>org</td>\n",
       "      <td>amblesideonline</td>\n",
       "      <td>NaN</td>\n",
       "      <td>https://www.amblesideonline.org www.amblesideo...</td>\n",
       "    </tr>\n",
       "    <tr>\n",
       "      <th>3</th>\n",
       "      <td>http://serv-term-103049.square.site/</td>\n",
       "      <td>serv-term-103049.square.site</td>\n",
       "      <td>site</td>\n",
       "      <td>serv-term-103049square</td>\n",
       "      <td>NaN</td>\n",
       "      <td>http://serv-term-103049.square.site/ serv-term...</td>\n",
       "    </tr>\n",
       "    <tr>\n",
       "      <th>4</th>\n",
       "      <td>https://3vlocksmith.com/blesmps/login.html</td>\n",
       "      <td>3vlocksmith.com</td>\n",
       "      <td>com</td>\n",
       "      <td>3vlocksmithblesmpsloginhtm</td>\n",
       "      <td>NaN</td>\n",
       "      <td>https://3vlocksmith.com/blesmps/login.html 3vl...</td>\n",
       "    </tr>\n",
       "  </tbody>\n",
       "</table>\n",
       "</div>"
      ],
      "text/plain": [
       "                                          URL                        Domain  \\\n",
       "0                      https://www.ife.org.uk                www.ife.org.uk   \n",
       "1              https://www.rogerfoxwell.co.uk        www.rogerfoxwell.co.uk   \n",
       "2             https://www.amblesideonline.org       www.amblesideonline.org   \n",
       "3        http://serv-term-103049.square.site/  serv-term-103049.square.site   \n",
       "4  https://3vlocksmith.com/blesmps/login.html               3vlocksmith.com   \n",
       "\n",
       "    TLD                       Title  label  \\\n",
       "0    uk                      ifeorg    NaN   \n",
       "1    uk              rogerfoxwellco    NaN   \n",
       "2   org             amblesideonline    NaN   \n",
       "3  site      serv-term-103049square    NaN   \n",
       "4   com  3vlocksmithblesmpsloginhtm    NaN   \n",
       "\n",
       "                                            combined  \n",
       "0    https://www.ife.org.uk www.ife.org.uk uk ifeorg  \n",
       "1  https://www.rogerfoxwell.co.uk www.rogerfoxwel...  \n",
       "2  https://www.amblesideonline.org www.amblesideo...  \n",
       "3  http://serv-term-103049.square.site/ serv-term...  \n",
       "4  https://3vlocksmith.com/blesmps/login.html 3vl...  "
      ]
     },
     "execution_count": 8,
     "metadata": {},
     "output_type": "execute_result"
    }
   ],
   "source": [
    "sample_data = df2[:5000]\n",
    "sample_data.reset_index(drop=True, inplace=True)\n",
    "sub_df2 = sample_data.select_dtypes('object')\n",
    "print(sub_df2.shape)\n",
    "sub_df2['label'] = df2['label']\n",
    "sub_df2['combined'] = sub_df2['URL'] + ' ' + sub_df2['Domain'] + ' ' + sub_df2['TLD'] + ' ' + sub_df2['Title']\n",
    "sub_df2.head()"
   ]
  },
  {
   "cell_type": "code",
   "execution_count": 9,
   "id": "118f5bda",
   "metadata": {
    "execution": {
     "iopub.execute_input": "2025-03-11T11:22:17.983684Z",
     "iopub.status.busy": "2025-03-11T11:22:17.983464Z",
     "iopub.status.idle": "2025-03-11T11:22:20.047507Z",
     "shell.execute_reply": "2025-03-11T11:22:20.046583Z"
    },
    "papermill": {
     "duration": 2.071297,
     "end_time": "2025-03-11T11:22:20.049025",
     "exception": false,
     "start_time": "2025-03-11T11:22:17.977728",
     "status": "completed"
    },
    "tags": []
   },
   "outputs": [],
   "source": [
    "from transformers import AutoModel, AutoTokenizer\n",
    "\n",
    "# Specify the path where all your model files are saved\n",
    "model_dir = \"/kaggle/input/finetunedbertmodel/pytorch/default/1/\"\n",
    "\n",
    "# Load the tokenizer\n",
    "tokenizer = AutoTokenizer.from_pretrained(model_dir, model_max_length=512)\n",
    "# Load the model\n",
    "model = AutoModel.from_pretrained(model_dir)"
   ]
  },
  {
   "cell_type": "code",
   "execution_count": 10,
   "id": "354dfcd4",
   "metadata": {
    "execution": {
     "iopub.execute_input": "2025-03-11T11:22:20.061366Z",
     "iopub.status.busy": "2025-03-11T11:22:20.060939Z",
     "iopub.status.idle": "2025-03-11T11:22:20.928035Z",
     "shell.execute_reply": "2025-03-11T11:22:20.927327Z"
    },
    "papermill": {
     "duration": 0.874752,
     "end_time": "2025-03-11T11:22:20.929551",
     "exception": false,
     "start_time": "2025-03-11T11:22:20.054799",
     "status": "completed"
    },
    "tags": []
   },
   "outputs": [],
   "source": [
    "tokenized = sub_df2['combined'].apply(lambda x: tokenizer.encode(x, \n",
    "                                                                add_special_tokens=True, \n",
    "                                                                max_length=512, \n",
    "                                                                truncation=True, \n",
    "                                                                padding=\"max_length\"))"
   ]
  },
  {
   "cell_type": "code",
   "execution_count": 11,
   "id": "298945d4",
   "metadata": {
    "execution": {
     "iopub.execute_input": "2025-03-11T11:22:20.942093Z",
     "iopub.status.busy": "2025-03-11T11:22:20.941840Z",
     "iopub.status.idle": "2025-03-11T11:22:21.098120Z",
     "shell.execute_reply": "2025-03-11T11:22:21.097448Z"
    },
    "papermill": {
     "duration": 0.164065,
     "end_time": "2025-03-11T11:22:21.099725",
     "exception": false,
     "start_time": "2025-03-11T11:22:20.935660",
     "status": "completed"
    },
    "tags": []
   },
   "outputs": [],
   "source": [
    "max_len = 0\n",
    "for i in tokenized.values:\n",
    "    if len(i) > max_len:\n",
    "        max_len = len(i)\n",
    "\n",
    "padded = np.array([i + [0]*(max_len-len(i)) for i in tokenized.values])"
   ]
  },
  {
   "cell_type": "code",
   "execution_count": 12,
   "id": "35f9cefc",
   "metadata": {
    "execution": {
     "iopub.execute_input": "2025-03-11T11:22:21.111624Z",
     "iopub.status.busy": "2025-03-11T11:22:21.111385Z",
     "iopub.status.idle": "2025-03-11T11:22:21.117985Z",
     "shell.execute_reply": "2025-03-11T11:22:21.117347Z"
    },
    "papermill": {
     "duration": 0.013744,
     "end_time": "2025-03-11T11:22:21.119178",
     "exception": false,
     "start_time": "2025-03-11T11:22:21.105434",
     "status": "completed"
    },
    "tags": []
   },
   "outputs": [
    {
     "data": {
      "text/plain": [
       "(5000, 512)"
      ]
     },
     "execution_count": 12,
     "metadata": {},
     "output_type": "execute_result"
    }
   ],
   "source": [
    "np.array(padded).shape"
   ]
  },
  {
   "cell_type": "code",
   "execution_count": 13,
   "id": "2546e110",
   "metadata": {
    "execution": {
     "iopub.execute_input": "2025-03-11T11:22:21.130953Z",
     "iopub.status.busy": "2025-03-11T11:22:21.130754Z",
     "iopub.status.idle": "2025-03-11T11:22:21.139607Z",
     "shell.execute_reply": "2025-03-11T11:22:21.138975Z"
    },
    "papermill": {
     "duration": 0.015841,
     "end_time": "2025-03-11T11:22:21.140790",
     "exception": false,
     "start_time": "2025-03-11T11:22:21.124949",
     "status": "completed"
    },
    "tags": []
   },
   "outputs": [
    {
     "data": {
      "text/plain": [
       "(5000, 512)"
      ]
     },
     "execution_count": 13,
     "metadata": {},
     "output_type": "execute_result"
    }
   ],
   "source": [
    "attention_mask = np.where(padded != 0, 1, 0)\n",
    "attention_mask.shape"
   ]
  },
  {
   "cell_type": "code",
   "execution_count": 14,
   "id": "b39da03b",
   "metadata": {
    "execution": {
     "iopub.execute_input": "2025-03-11T11:22:21.152657Z",
     "iopub.status.busy": "2025-03-11T11:22:21.152424Z",
     "iopub.status.idle": "2025-03-11T11:23:06.957999Z",
     "shell.execute_reply": "2025-03-11T11:23:06.956999Z"
    },
    "papermill": {
     "duration": 45.813342,
     "end_time": "2025-03-11T11:23:06.959743",
     "exception": false,
     "start_time": "2025-03-11T11:22:21.146401",
     "status": "completed"
    },
    "tags": []
   },
   "outputs": [],
   "source": [
    "import torch\n",
    "from torch.utils.data import DataLoader, TensorDataset\n",
    "\n",
    "# Check if GPU is available\n",
    "device = torch.device(\"cuda\" if torch.cuda.is_available() else \"cpu\")\n",
    "\n",
    "# Move the model to the GPU\n",
    "model = model.to(device)\n",
    "\n",
    "# Convert inputs to tensors\n",
    "input_ids = torch.tensor(padded)\n",
    "attention_mask = torch.tensor(attention_mask)\n",
    "\n",
    "# Create a TensorDataset and DataLoader for batching\n",
    "batch_size = 16  # Adjust batch size as per your GPU memory capacity\n",
    "dataset = TensorDataset(input_ids, attention_mask)\n",
    "dataloader = DataLoader(dataset, batch_size=batch_size)\n",
    "\n",
    "# Perform batched inference with GPU support\n",
    "all_hidden_states = []\n",
    "\n",
    "with torch.no_grad():\n",
    "    for batch in dataloader:\n",
    "        batch_input_ids, batch_attention_mask = [x.to(device) for x in batch]\n",
    "        outputs = model(batch_input_ids, attention_mask=batch_attention_mask)\n",
    "        all_hidden_states.append(outputs.last_hidden_state)\n",
    "\n",
    "# Concatenate all hidden states into a single tensor\n",
    "last_hidden_states = torch.cat(all_hidden_states, dim=0)"
   ]
  },
  {
   "cell_type": "code",
   "execution_count": 15,
   "id": "1840dec5",
   "metadata": {
    "execution": {
     "iopub.execute_input": "2025-03-11T11:23:06.972142Z",
     "iopub.status.busy": "2025-03-11T11:23:06.971889Z",
     "iopub.status.idle": "2025-03-11T11:23:07.031113Z",
     "shell.execute_reply": "2025-03-11T11:23:07.030343Z"
    },
    "papermill": {
     "duration": 0.06667,
     "end_time": "2025-03-11T11:23:07.032488",
     "exception": false,
     "start_time": "2025-03-11T11:23:06.965818",
     "status": "completed"
    },
    "tags": []
   },
   "outputs": [
    {
     "name": "stdout",
     "output_type": "stream",
     "text": [
      "Combined features shape: (5000, 783)\n"
     ]
    }
   ],
   "source": [
    "from sklearn.preprocessing import StandardScaler\n",
    "\n",
    "features = last_hidden_states[:, 0, :].cpu().numpy() \n",
    "num_df = sample_data.drop(['URL',\t'Domain',\t'TLD',\t'Title', 'label'], axis=1).values\n",
    "assert features.shape[0] == sample_data.shape[0]\n",
    "\n",
    "# Ensure the number of samples match\n",
    "if features.shape[0] != num_df.shape[0]:\n",
    "    raise ValueError(\"Mismatch in the number of samples between features and num_df\")\n",
    "\n",
    "# Concatenate along the feature axis (columns)\n",
    "combined_features = np.concatenate([features, num_df], axis=1)\n",
    "\n",
    "print(\"Combined features shape:\", combined_features.shape)"
   ]
  },
  {
   "cell_type": "code",
   "execution_count": 16,
   "id": "8bc98294",
   "metadata": {
    "execution": {
     "iopub.execute_input": "2025-03-11T11:23:07.044766Z",
     "iopub.status.busy": "2025-03-11T11:23:07.044508Z",
     "iopub.status.idle": "2025-03-11T11:23:07.050135Z",
     "shell.execute_reply": "2025-03-11T11:23:07.049513Z"
    },
    "papermill": {
     "duration": 0.01342,
     "end_time": "2025-03-11T11:23:07.051736",
     "exception": false,
     "start_time": "2025-03-11T11:23:07.038316",
     "status": "completed"
    },
    "tags": []
   },
   "outputs": [
    {
     "data": {
      "text/plain": [
       "0       1\n",
       "1       1\n",
       "2       1\n",
       "3       0\n",
       "4       0\n",
       "       ..\n",
       "4995    1\n",
       "4996    1\n",
       "4997    1\n",
       "4998    0\n",
       "4999    0\n",
       "Name: label, Length: 5000, dtype: int64"
      ]
     },
     "execution_count": 16,
     "metadata": {},
     "output_type": "execute_result"
    }
   ],
   "source": [
    "labels = sample_data['label']\n",
    "labels"
   ]
  },
  {
   "cell_type": "code",
   "execution_count": 17,
   "id": "93070581",
   "metadata": {
    "execution": {
     "iopub.execute_input": "2025-03-11T11:23:07.063953Z",
     "iopub.status.busy": "2025-03-11T11:23:07.063726Z",
     "iopub.status.idle": "2025-03-11T11:23:07.082658Z",
     "shell.execute_reply": "2025-03-11T11:23:07.081963Z"
    },
    "papermill": {
     "duration": 0.026673,
     "end_time": "2025-03-11T11:23:07.084258",
     "exception": false,
     "start_time": "2025-03-11T11:23:07.057585",
     "status": "completed"
    },
    "tags": []
   },
   "outputs": [],
   "source": [
    "\n",
    "train_features, test_features, train_labels, test_labels = train_test_split(combined_features, labels, test_size=0.2, stratify=labels)\n"
   ]
  },
  {
   "cell_type": "code",
   "execution_count": 18,
   "id": "d86e0514",
   "metadata": {
    "execution": {
     "iopub.execute_input": "2025-03-11T11:23:07.096815Z",
     "iopub.status.busy": "2025-03-11T11:23:07.096573Z",
     "iopub.status.idle": "2025-03-11T11:23:07.144343Z",
     "shell.execute_reply": "2025-03-11T11:23:07.143349Z"
    },
    "papermill": {
     "duration": 0.05548,
     "end_time": "2025-03-11T11:23:07.145962",
     "exception": false,
     "start_time": "2025-03-11T11:23:07.090482",
     "status": "completed"
    },
    "tags": []
   },
   "outputs": [],
   "source": [
    "# Import the StandardScaler\n",
    "from sklearn.preprocessing import StandardScaler\n",
    "\n",
    "# Scale train_features and set the values to a new variable\n",
    "scaler = StandardScaler()\n",
    "\n",
    "# Scale train_features and test_features\n",
    "scaled_train_features = scaler.fit_transform(train_features)\n",
    "scaled_test_features = scaler.transform(test_features)"
   ]
  },
  {
   "cell_type": "code",
   "execution_count": null,
   "id": "d6800206",
   "metadata": {
    "papermill": {
     "duration": 0.005464,
     "end_time": "2025-03-11T11:23:07.157371",
     "exception": false,
     "start_time": "2025-03-11T11:23:07.151907",
     "status": "completed"
    },
    "tags": []
   },
   "outputs": [],
   "source": []
  },
  {
   "cell_type": "code",
   "execution_count": 19,
   "id": "7d23a3dc",
   "metadata": {
    "execution": {
     "iopub.execute_input": "2025-03-11T11:23:07.169085Z",
     "iopub.status.busy": "2025-03-11T11:23:07.168847Z",
     "iopub.status.idle": "2025-03-11T11:23:08.218477Z",
     "shell.execute_reply": "2025-03-11T11:23:08.217639Z"
    },
    "papermill": {
     "duration": 1.056919,
     "end_time": "2025-03-11T11:23:08.219708",
     "exception": false,
     "start_time": "2025-03-11T11:23:07.162789",
     "status": "completed"
    },
    "tags": []
   },
   "outputs": [
    {
     "data": {
      "image/png": "[encoded data removed]",
      "text/plain": [
       "<Figure size 1000x500 with 1 Axes>"
      ]
     },
     "metadata": {},
     "output_type": "display_data"
    }
   ],
   "source": [
    "import matplotlib.pyplot as plt\n",
    "import numpy as np\n",
    "from sklearn.decomposition import PCA\n",
    "\n",
    "# Fit PCA\n",
    "pca = PCA()\n",
    "pca.fit(scaled_train_features)\n",
    "exp_variance = pca.explained_variance_ratio_\n",
    "\n",
    "# Limit to first 50 components for better visibility\n",
    "num_components_to_plot = min(50, len(exp_variance))\n",
    "\n",
    "# Plot the explained variance\n",
    "fig, ax = plt.subplots(figsize=(10, 5))  # Adjust figure size\n",
    "ax.bar(range(num_components_to_plot), exp_variance[:num_components_to_plot], color='b', alpha=0.7)\n",
    "\n",
    "# Labels and title\n",
    "ax.set_xlabel('Principal Component #', fontsize=12)\n",
    "ax.set_ylabel('Explained Variance Ratio', fontsize=12)\n",
    "ax.set_title('Explained Variance Ratio by Principal Component', fontsize=14)\n",
    "\n",
    "# Add grid for readability\n",
    "ax.grid(True, linestyle='--', alpha=0.6)\n",
    "\n",
    "# Show only up to the first 50 components\n",
    "plt.xticks(np.arange(0, num_components_to_plot, step=5))\n",
    "plt.show()\n"
   ]
  },
  {
   "cell_type": "code",
   "execution_count": 20,
   "id": "02ab1946",
   "metadata": {
    "execution": {
     "iopub.execute_input": "2025-03-11T11:23:08.233554Z",
     "iopub.status.busy": "2025-03-11T11:23:08.233308Z",
     "iopub.status.idle": "2025-03-11T11:23:08.693920Z",
     "shell.execute_reply": "2025-03-11T11:23:08.693070Z"
    },
    "papermill": {
     "duration": 0.469077,
     "end_time": "2025-03-11T11:23:08.695522",
     "exception": false,
     "start_time": "2025-03-11T11:23:08.226445",
     "status": "completed"
    },
    "tags": []
   },
   "outputs": [
    {
     "data": {
      "image/png": "[encoded data removed]",
      "text/plain": [
       "<Figure size 1000x500 with 1 Axes>"
      ]
     },
     "metadata": {},
     "output_type": "display_data"
    }
   ],
   "source": [
    "import numpy as np\n",
    "import matplotlib.pyplot as plt\n",
    "\n",
    "# Calculate cumulative explained variance\n",
    "cum_exp_variance = np.cumsum(exp_variance)\n",
    "\n",
    "# Determine number of components to reach 85% variance\n",
    "num_components_85 = np.argmax(cum_exp_variance >= 0.85) + 1  # Add 1 for 1-based index\n",
    "\n",
    "# Limit number of components for better visualization\n",
    "num_components_to_plot = min(50, len(exp_variance))  # Plot up to 50 or total available\n",
    "\n",
    "# Create figure\n",
    "fig, ax = plt.subplots(figsize=(10, 5))\n",
    "\n",
    "# Plot individual explained variance as bars\n",
    "ax.bar(range(1, num_components_to_plot + 1), exp_variance[:num_components_to_plot], \n",
    "       alpha=0.5, align='center', label='Individual Explained Variance')\n",
    "\n",
    "# Plot cumulative explained variance as a red line with markers\n",
    "ax.plot(range(1, num_components_to_plot + 1), cum_exp_variance[:num_components_to_plot], \n",
    "        marker='o', linestyle='-', color='r', label='Cumulative Explained Variance')\n",
    "\n",
    "# Add dashed horizontal line at 85% variance\n",
    "ax.axhline(y=0.85, color='g', linestyle='--', label='85% Explained Variance')\n",
    "\n",
    "# Add vertical line at the number of components reaching 85% variance\n",
    "ax.axvline(x=num_components_85, color='purple', linestyle='--', label=f'{num_components_85} Components at 85%')\n",
    "\n",
    "# Labels and title\n",
    "ax.set_xlabel('Principal Component #', fontsize=12)\n",
    "ax.set_ylabel('Explained Variance Ratio', fontsize=12)\n",
    "ax.set_title('Explained Variance Ratio by Principal Component', fontsize=14)\n",
    "\n",
    "# Customize ticks for better readability\n",
    "ax.set_xticks(range(0, num_components_to_plot + 1, 5))\n",
    "ax.set_yticks(np.arange(0, 1.1, 0.1))\n",
    "\n",
    "# Add grid\n",
    "ax.grid(True, linestyle='--', alpha=0.6)\n",
    "\n",
    "# Show legend\n",
    "ax.legend()\n",
    "\n",
    "# Show plot\n",
    "plt.show()"
   ]
  },
  {
   "cell_type": "code",
   "execution_count": 21,
   "id": "934f13bd",
   "metadata": {
    "execution": {
     "iopub.execute_input": "2025-03-11T11:23:08.711993Z",
     "iopub.status.busy": "2025-03-11T11:23:08.711770Z",
     "iopub.status.idle": "2025-03-11T11:23:08.891754Z",
     "shell.execute_reply": "2025-03-11T11:23:08.888403Z"
    },
    "papermill": {
     "duration": 0.190537,
     "end_time": "2025-03-11T11:23:08.894100",
     "exception": false,
     "start_time": "2025-03-11T11:23:08.703563",
     "status": "completed"
    },
    "tags": []
   },
   "outputs": [],
   "source": [
    "# Perform PCA with the chosen number of components and project data onto components\n",
    "pca = PCA(n_components=4)\n",
    "\n",
    "# Fit and transform the scaled training features using pca\n",
    "train_pca = pca.fit_transform(scaled_train_features)\n",
    "\n",
    "# Fit and transform the scaled test features using pca\n",
    "test_pca = pca.transform(scaled_test_features)"
   ]
  },
  {
   "cell_type": "code",
   "execution_count": 22,
   "id": "430c2727",
   "metadata": {
    "execution": {
     "iopub.execute_input": "2025-03-11T11:23:08.989197Z",
     "iopub.status.busy": "2025-03-11T11:23:08.988688Z",
     "iopub.status.idle": "2025-03-11T11:23:09.001617Z",
     "shell.execute_reply": "2025-03-11T11:23:09.000597Z"
    },
    "papermill": {
     "duration": 0.058367,
     "end_time": "2025-03-11T11:23:09.005058",
     "exception": false,
     "start_time": "2025-03-11T11:23:08.946691",
     "status": "completed"
    },
    "tags": []
   },
   "outputs": [],
   "source": [
    "# Convert numpy arrays to PyTorch tensors\n",
    "train_features_tensor = torch.FloatTensor(train_pca)\n",
    "test_features_tensor = torch.FloatTensor(test_pca)\n",
    "train_labels_tensor = torch.LongTensor(train_labels.values)\n",
    "test_labels_tensor = torch.LongTensor(test_labels.values)\n",
    "\n",
    "# Create datasets\n",
    "train_dataset = TensorDataset(train_features_tensor, train_labels_tensor)\n",
    "test_dataset = TensorDataset(test_features_tensor, test_labels_tensor)\n",
    "\n",
    "# DataLoader for batch processing\n",
    "batch_size = 32\n",
    "train_loader = DataLoader(train_dataset, batch_size=batch_size, shuffle=True)\n",
    "test_loader = DataLoader(test_dataset, batch_size=batch_size, shuffle=False)\n"
   ]
  },
  {
   "cell_type": "code",
   "execution_count": 23,
   "id": "3911f93a",
   "metadata": {
    "execution": {
     "iopub.execute_input": "2025-03-11T11:23:09.031891Z",
     "iopub.status.busy": "2025-03-11T11:23:09.031691Z",
     "iopub.status.idle": "2025-03-11T11:23:11.876220Z",
     "shell.execute_reply": "2025-03-11T11:23:11.875347Z"
    },
    "papermill": {
     "duration": 2.854081,
     "end_time": "2025-03-11T11:23:11.877619",
     "exception": false,
     "start_time": "2025-03-11T11:23:09.023538",
     "status": "completed"
    },
    "tags": []
   },
   "outputs": [
    {
     "name": "stdout",
     "output_type": "stream",
     "text": [
      "Epoch 1, Training Loss: 0.1172, Validation Loss: 0.0182\n",
      "Epoch 2, Training Loss: 0.1031, Validation Loss: 0.0225\n",
      "Epoch 3, Training Loss: 0.0252, Validation Loss: 0.1953\n",
      "Epoch 4, Training Loss: 0.0721, Validation Loss: 0.0280\n",
      "Epoch 5, Training Loss: 0.0640, Validation Loss: 0.1953\n"
     ]
    }
   ],
   "source": [
    "import torch\n",
    "import torch.nn as nn\n",
    "import torch.optim as optim\n",
    "\n",
    "# Define the CNN architecture\n",
    "class BinaryClassifierCNN(nn.Module):\n",
    "    def __init__(self, input_size):\n",
    "        super(BinaryClassifierCNN, self).__init__()\n",
    "        self.conv1 = nn.Conv1d(1, 64, kernel_size=3, padding=1)\n",
    "        self.conv2 = nn.Conv1d(64, 128, kernel_size=3, padding=1)\n",
    "        self.pool = nn.MaxPool1d(kernel_size=2, stride=2)\n",
    "        self.fc1 = nn.Linear(128 * (input_size // 4), 20)  # Adjust based on input size\n",
    "        self.fc2 = nn.Linear(20, 64)\n",
    "        self.fc3 = nn.Linear(64, 1)\n",
    "        \n",
    "        self.relu = nn.ReLU()\n",
    "        self.dropout = nn.Dropout(0.5)\n",
    "\n",
    "    def forward(self, x):\n",
    "        # Reshape input for Conv1d: (batch_size, 1, seq_length)\n",
    "        x = x.view(x.size(0), 1, -1)\n",
    "        x = self.relu(self.conv1(x))\n",
    "        x = self.pool(x)\n",
    "        x = self.relu(self.conv2(x))\n",
    "        x = self.pool(x)\n",
    "        \n",
    "        # Flatten the output for the fully connected layers\n",
    "        x = x.view(x.size(0), -1)\n",
    "        x = self.dropout(self.relu(self.fc1(x)))\n",
    "        x = self.dropout(self.relu(self.fc2(x)))\n",
    "        x = self.fc3(x)\n",
    "        \n",
    "        return torch.sigmoid(x)\n",
    "\n",
    "# Initialize the model, loss function, and optimizer\n",
    "input_size = train_features_tensor.shape[1]  # Total features after concatenation\n",
    "model = BinaryClassifierCNN(input_size)\n",
    "criterion = nn.BCELoss()\n",
    "optimizer = optim.Adam(model.parameters())\n",
    "\n",
    "# Training loop\n",
    "train_losses = []\n",
    "val_losses = []\n",
    "\n",
    "num_epochs = 5\n",
    "for epoch in range(num_epochs):\n",
    "    model.train()\n",
    "    train_loss = 0\n",
    "    for i, (inputs, labels) in enumerate(train_loader):\n",
    "        optimizer.zero_grad()\n",
    "        outputs = model(inputs)\n",
    "        loss = criterion(outputs.squeeze(), labels.float())\n",
    "        loss.backward()\n",
    "        optimizer.step()\n",
    "        \n",
    "        train_loss += loss.item()\n",
    "    \n",
    "    # Average training loss for this epoch\n",
    "    train_loss /= len(train_loader)\n",
    "    train_losses.append(train_loss)\n",
    "\n",
    "    # Validation\n",
    "    model.eval()\n",
    "    val_loss = 0\n",
    "    with torch.no_grad():\n",
    "        for inputs, labels in test_loader:\n",
    "            outputs = model(inputs)\n",
    "            loss = criterion(outputs.squeeze(), labels.float())\n",
    "            val_loss += loss.item()\n",
    "    \n",
    "    # Average validation loss for this epoch\n",
    "    val_loss /= len(test_loader)\n",
    "    val_losses.append(val_loss)\n",
    "\n",
    "    print(f'Epoch {epoch+1}, Training Loss: {train_loss:.4f}, Validation Loss: {val_loss:.4f}')"
   ]
  },
  {
   "cell_type": "code",
   "execution_count": 24,
   "id": "313192d8",
   "metadata": {
    "execution": {
     "iopub.execute_input": "2025-03-11T11:23:11.895064Z",
     "iopub.status.busy": "2025-03-11T11:23:11.894673Z",
     "iopub.status.idle": "2025-03-11T11:23:12.162849Z",
     "shell.execute_reply": "2025-03-11T11:23:12.161985Z"
    },
    "papermill": {
     "duration": 0.278278,
     "end_time": "2025-03-11T11:23:12.164354",
     "exception": false,
     "start_time": "2025-03-11T11:23:11.886076",
     "status": "completed"
    },
    "tags": []
   },
   "outputs": [
    {
     "data": {
      "image/png": "[encoded data removed]",
      "text/plain": [
       "<Figure size 1000x500 with 1 Axes>"
      ]
     },
     "metadata": {},
     "output_type": "display_data"
    }
   ],
   "source": [
    "import matplotlib.pyplot as plt\n",
    "\n",
    "\n",
    "# Plotting the loss curves\n",
    "plt.figure(figsize=(10, 5))\n",
    "plt.plot(train_losses, label='Training Loss')\n",
    "plt.plot(val_losses, label='Validation Loss')\n",
    "plt.title('Training and Validation Loss Over Epochs')\n",
    "plt.xlabel('Epoch')\n",
    "plt.ylabel('Loss')\n",
    "plt.legend()\n",
    "plt.show()"
   ]
  },
  {
   "cell_type": "code",
   "execution_count": 25,
   "id": "f4a988ee",
   "metadata": {
    "execution": {
     "iopub.execute_input": "2025-03-11T11:23:12.183915Z",
     "iopub.status.busy": "2025-03-11T11:23:12.183670Z",
     "iopub.status.idle": "2025-03-11T11:23:12.226352Z",
     "shell.execute_reply": "2025-03-11T11:23:12.225521Z"
    },
    "papermill": {
     "duration": 0.053621,
     "end_time": "2025-03-11T11:23:12.227680",
     "exception": false,
     "start_time": "2025-03-11T11:23:12.174059",
     "status": "completed"
    },
    "tags": []
   },
   "outputs": [
    {
     "name": "stdout",
     "output_type": "stream",
     "text": [
      "Final Test Accuracy: 99.80%\n"
     ]
    }
   ],
   "source": [
    "# Final evaluation\n",
    "model.eval()\n",
    "with torch.no_grad():\n",
    "    correct = 0\n",
    "    total = 0\n",
    "    all_preds = []\n",
    "    all_labels = []\n",
    "    for inputs, labels in test_loader:\n",
    "        outputs = model(inputs)\n",
    "        predicted = (outputs > 0.5).float()\n",
    "        all_preds.extend(predicted.squeeze().tolist())\n",
    "        all_labels.extend(labels.tolist())\n",
    "        total += labels.size(0)\n",
    "        correct += (predicted.squeeze() == labels.float()).sum().item()\n",
    "\n",
    "    print(f'Final Test Accuracy: {100 * correct / total:.2f}%')"
   ]
  },
  {
   "cell_type": "code",
   "execution_count": 26,
   "id": "af5af48a",
   "metadata": {
    "execution": {
     "iopub.execute_input": "2025-03-11T11:23:12.247580Z",
     "iopub.status.busy": "2025-03-11T11:23:12.247344Z",
     "iopub.status.idle": "2025-03-11T11:23:12.624729Z",
     "shell.execute_reply": "2025-03-11T11:23:12.623798Z"
    },
    "papermill": {
     "duration": 0.38886,
     "end_time": "2025-03-11T11:23:12.627161",
     "exception": false,
     "start_time": "2025-03-11T11:23:12.238301",
     "status": "completed"
    },
    "tags": []
   },
   "outputs": [
    {
     "name": "stdout",
     "output_type": "stream",
     "text": [
      "\n",
      "Classification Report:\n",
      "              precision    recall  f1-score   support\n",
      "\n",
      "     Class 0       1.00      1.00      1.00       441\n",
      "     Class 1       1.00      1.00      1.00       559\n",
      "\n",
      "    accuracy                           1.00      1000\n",
      "   macro avg       1.00      1.00      1.00      1000\n",
      "weighted avg       1.00      1.00      1.00      1000\n",
      "\n",
      "\n",
      "Confusion Matrix:\n",
      "[[439   2]\n",
      " [  0 559]]\n"
     ]
    },
    {
     "data": {
      "image/png": "[encoded data removed]",
      "text/plain": [
       "<Figure size 1000x700 with 2 Axes>"
      ]
     },
     "metadata": {},
     "output_type": "display_data"
    }
   ],
   "source": [
    "from sklearn.metrics import classification_report, confusion_matrix\n",
    "import numpy as np\n",
    "\n",
    "# Assuming you've already run the training loop and have these lists:\n",
    "# all_preds - list of predictions\n",
    "# all_labels - list of true labels\n",
    "\n",
    "# Convert lists to numpy arrays for easier manipulation\n",
    "all_preds = np.array(all_preds)\n",
    "all_labels = np.array(all_labels)\n",
    "\n",
    "# Classification Report\n",
    "print(\"\\nClassification Report:\")\n",
    "print(classification_report(all_labels, all_preds.round(), target_names=['Class 0', 'Class 1']))\n",
    "\n",
    "# Confusion Matrix\n",
    "print(\"\\nConfusion Matrix:\")\n",
    "conf_matrix = confusion_matrix(all_labels, all_preds.round())\n",
    "print(conf_matrix)\n",
    "\n",
    "# Optionally, you can visualize the confusion matrix with matplotlib if available\n",
    "import matplotlib.pyplot as plt\n",
    "import seaborn as sns\n",
    "\n",
    "plt.figure(figsize=(10, 7))\n",
    "sns.heatmap(conf_matrix, annot=True, fmt='d', cmap='Blues')\n",
    "plt.title('Confusion Matrix')\n",
    "plt.ylabel('True Label')\n",
    "plt.xlabel('Predicted Label')\n",
    "plt.show()"
   ]
  },
  {
   "cell_type": "code",
   "execution_count": null,
   "id": "9f3ab235",
   "metadata": {
    "papermill": {
     "duration": 0.009353,
     "end_time": "2025-03-11T11:23:12.646794",
     "exception": false,
     "start_time": "2025-03-11T11:23:12.637441",
     "status": "completed"
    },
    "tags": []
   },
   "outputs": [],
   "source": []
  }
 ],
 "metadata": {
  "kaggle": {
   "accelerator": "gpu",
   "dataSources": [
    {
     "datasetId": 6772164,
     "sourceId": 10897249,
     "sourceType": "datasetVersion"
    },
    {
     "modelId": 195986,
     "modelInstanceId": 173655,
     "sourceId": 203557,
     "sourceType": "modelInstanceVersion"
    }
   ],
   "dockerImageVersionId": 30823,
   "isGpuEnabled": true,
   "isInternetEnabled": true,
   "language": "python",
   "sourceType": "notebook"
  },
  "kernelspec": {
   "display_name": "Python 3",
   "language": "python",
   "name": "python3"
  },
  "language_info": {
   "codemirror_mode": {
    "name": "ipython",
    "version": 3
   },
   "file_extension": ".py",
   "mimetype": "text/x-python",
   "name": "python",
   "nbconvert_exporter": "python",
   "pygments_lexer": "ipython3",
   "version": "3.10.12"
  },
  "papermill": {
   "default_parameters": {},
   "duration": 66.322507,
   "end_time": "2025-03-11T11:23:14.276717",
   "environment_variables": {},
   "exception": null,
   "input_path": "__notebook__.ipynb",
   "output_path": "__notebook__.ipynb",
   "parameters": {},
   "start_time": "2025-03-11T11:22:07.954210",
   "version": "2.6.0"
  }
 },
 "nbformat": 4,
 "nbformat_minor": 5
}
